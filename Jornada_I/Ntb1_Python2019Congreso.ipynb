{
 "cells": [
  {
   "cell_type": "markdown",
   "metadata": {
    "slideshow": {
     "slide_type": "-"
    }
   },
   "source": [
    "### Curso- Procesamiento de Imágenes con Python \n",
    "### Congreso-Escuela de Estadística (Aplicaciones en Agricultura y Ambiente)\n",
    "### 23, 24 y 25 de Septiembre de 2019\n",
    "\n",
    "* Docentes:  Dra. Valeria S. Rulloni - Dra. Laura M. Vargas\n",
    "\n",
    "### Algunas recomendaciones:\n",
    "+ Este archivo y todos los de extensión .ipynb se abren con jupyter o Google Collaboratory y se dividen en bloques.\n",
    "+ Básicamente: bloques de texto (Markdown) y otros de código (Code, en Python). \n",
    "+ Cualquier bloque se ejecuta con shift+enter o utilizando el botón Run.\n",
    "\n",
    "## Jornada 1\n",
    "### Uso Básico de Python (con Jupyter Notebook o en Collaboratory):\n",
    "\n",
    "+ Se producen archivos *.ipynb (o también puede ser archivos Python del tipo *.py):\n",
    "\n",
    "**TIPS:**\n",
    "* Los bloques se pueden eliminar con el menú Edit. O con los botones correspondientes (cortar, copiar, pegar, desplazar).\n",
    "\n",
    "* El archivo se puede ejecutar en el entorno de Windows en la carpeta correspondiente (o desde cualquiera si se ha configurado el path) mediante el comando python en línea de comandos\n",
    "\n",
    "**En los bloques de texto** :\n",
    "\n",
    "* Mediante un doble clic en el bloque, posibilito la modificación del mismo.\n",
    "* Después del símbolo # se debe dejar un espacio.\n",
    "* Con uno, dos o tres numerales se maneja el tamaño de la letra.\n",
    "* Encerrando un texto entre uno o dos asteriscos se consigue texto en cursiva o negrita.\n",
    "\n",
    "**En los bloques de código** :\n",
    "* Si el renglón  empieza con # es comentario, si no, es instrucción.\n",
    "* En una línea de instrucción, se pueda agregar al final un comentario luego de #.\n",
    "\n",
    "\n",
    "### shift+enter para ejecutar (o botón Run), tanto en bloque de textos como de códigos\n",
    "\n",
    "### Si advierte que el programa no se está ejecutando use la opción Kernel-Restart and Clear Output\n",
    "\n"
   ]
  },
  {
   "cell_type": "markdown",
   "metadata": {},
   "source": [
    "## Instrucciones Básicas\n",
    "\n",
    "### Captura de Datos: input   \n",
    "### Muestra de Datos: print"
   ]
  },
  {
   "cell_type": "code",
   "execution_count": null,
   "metadata": {},
   "outputs": [],
   "source": [
    "cadena = input(\"Introduce una cadena de texto:\")\n",
    "# Recibe el texto ingresado y lo almacena en la variable cadena que es string\n",
    "print (\"La cadena que ingresó es: \",cadena)\n",
    "print(\"El tipo del dato ingresado es \",type(cadena))\n",
    "print('La cadena que ingresó es: \"',cadena,'\"')\n",
    "\n",
    "# Para mostrar comillas dobles, debo usar comillas simples que la contengan."
   ]
  },
  {
   "cell_type": "code",
   "execution_count": 2,
   "metadata": {},
   "outputs": [
    {
     "name": "stdout",
     "output_type": "stream",
     "text": [
      "Dígame un número: 3\n",
      "El nro ingresado es:  3\n",
      "El tipo del dato ingresado es  <class 'str'>\n"
     ]
    }
   ],
   "source": [
    "# Se pide el ingreso de un número por teclado y se muestra el número y el tipo de dato.\n",
    "# Si no forzamos el tipo de dato en el ingreso, lo toma como string (cadena de caracteres)\n",
    "\n",
    "numero = input(\"Dígame un número: \")\n",
    "print(\"El nro ingresado es: \",numero)\n",
    "print(\"El tipo del dato ingresado es \",type(numero))"
   ]
  },
  {
   "cell_type": "code",
   "execution_count": 3,
   "metadata": {},
   "outputs": [
    {
     "name": "stdout",
     "output_type": "stream",
     "text": [
      "Dígame un número: 5\n",
      "El nro ingresado es:  5\n",
      "El tipo del dato ingresado es  <class 'int'> porque se lo forzó\n",
      "Dígame un número: 5\n",
      "El nro ingresado es:  5.0\n",
      "El tipo del dato ingresado es  <class 'float'> porque se lo forzó\n"
     ]
    }
   ],
   "source": [
    "#Para que lo tome como número hay que forzarlo con la función int o float\n",
    "numero = int(input(\"Dígame un número: \"))\n",
    "print(\"El nro ingresado es: \",numero)\n",
    "print(\"El tipo del dato ingresado es \",type(numero), \"porque se lo forzó\")\n",
    "\n",
    "numero = float(input(\"Dígame un número: \"))\n",
    "print(\"El nro ingresado es: \",numero)\n",
    "print(\"El tipo del dato ingresado es \",type(numero), \"porque se lo forzó\")"
   ]
  },
  {
   "cell_type": "markdown",
   "metadata": {},
   "source": [
    "**Tipos de datos básicos en Python**\n",
    "\n",
    "int\n",
    "\n",
    "float\n",
    "\n",
    "bool\n",
    "\n",
    "complex\n",
    "\n",
    "str\n",
    "\n",
    "**Cuando ingresa un número, decide cómo almacenarlo (si es entero: de 8 bits, de 16 bits, si es float de 32 bits, etc.**"
   ]
  },
  {
   "cell_type": "markdown",
   "metadata": {},
   "source": [
    "Si asignamos un valor numérico a una variable, esta define automáticamente el tipo.\n",
    "\n",
    "Los números reales se almacenan en variables tipo \"float\".\n",
    "\n",
    "Los valores que puede representar van desde ±2,2250738585072020 x 10-308 hasta ±1,7976931348623157×10308, ya que utilizan 64 bits.\n"
   ]
  },
  {
   "cell_type": "code",
   "execution_count": 4,
   "metadata": {},
   "outputs": [
    {
     "name": "stdout",
     "output_type": "stream",
     "text": [
      "Asignacion de un número entero a una variable. El dato asignado es  24  y su tipo es  <class 'int'>\n",
      "Asignacion de un número real a una variable. El dato asignado es  24.0  y su tipo es  <class 'float'>\n",
      "El dato asignado a la variable es  456966786151987643 y su tipo es  <class 'int'>\n"
     ]
    }
   ],
   "source": [
    "#Asignación de valores\n",
    "nroi=24\n",
    "print(\"Asignacion de un número entero a una variable. El dato asignado es \",nroi,\" y su tipo es \",type(nroi))\n",
    "nrof=24.0\n",
    "print(\"Asignacion de un número real a una variable. El dato asignado es \",nrof,\" y su tipo es \",type(nrof))\n",
    "\n",
    "#Asignamos un entero largo\n",
    "nroL=456966786151987643\n",
    "print(\"El dato asignado a la variable es \", nroL, \"y su tipo es \",type(nroL))\n"
   ]
  },
  {
   "cell_type": "markdown",
   "metadata": {},
   "source": [
    "**También se pueden asignar valores utilizando notación científica**"
   ]
  },
  {
   "cell_type": "code",
   "execution_count": 5,
   "metadata": {},
   "outputs": [
    {
     "name": "stdout",
     "output_type": "stream",
     "text": [
      "0.002\n",
      "El tipo de dato asignado con notación científica es  <class 'float'>\n"
     ]
    }
   ],
   "source": [
    "nror=2e-3\n",
    "print(nror)\n",
    "print(\"El tipo de dato asignado con notación científica es \",type(nror))"
   ]
  },
  {
   "cell_type": "markdown",
   "metadata": {},
   "source": [
    "#### En las versiones actuales no hace falta definir enteros long. Toma tantos bits para almacenar como haga falta"
   ]
  },
  {
   "cell_type": "code",
   "execution_count": 6,
   "metadata": {},
   "outputs": [
    {
     "name": "stdout",
     "output_type": "stream",
     "text": [
      "-3\n",
      "3\n",
      "3\n"
     ]
    }
   ],
   "source": [
    "#Se puede calcular el valor absoluto de un número sin recurrir a librerías \n",
    "nro=-3\n",
    "print(nro)\n",
    "print(abs(nro))\n",
    "c=abs(nro)\n",
    "print(c)\n"
   ]
  },
  {
   "cell_type": "code",
   "execution_count": 8,
   "metadata": {},
   "outputs": [
    {
     "name": "stdout",
     "output_type": "stream",
     "text": [
      "0.348 <class 'float'>\n",
      "10.5 <class 'float'>\n",
      "150.0 <class 'float'>\n",
      "0.348 10.5 150.0\n"
     ]
    }
   ],
   "source": [
    "#Se pueden hacer asignaciones simultáneas así como se concatena la muestra en pantalla\n",
    "float_1, float_2, float_3 = 0.348, 10.5, 1.5e2\n",
    "print (float_1, type(float_1))\n",
    "print (float_2, type(float_2))\n",
    "print (float_3, type(float_3))\n",
    "print(float_1,float_2,float_3)"
   ]
  },
  {
   "cell_type": "markdown",
   "metadata": {},
   "source": [
    "**También puede manipular números complejos**"
   ]
  },
  {
   "cell_type": "code",
   "execution_count": 9,
   "metadata": {},
   "outputs": [
    {
     "name": "stdout",
     "output_type": "stream",
     "text": [
      "(1+3.14j) 3.14 1.0 <class 'complex'>\n"
     ]
    }
   ],
   "source": [
    "complejo = 1+ 3.14j\n",
    "print (complejo, complejo.imag, complejo.real, type(complejo))"
   ]
  },
  {
   "cell_type": "markdown",
   "metadata": {},
   "source": [
    "**Puede convertir tipos de datos numéricos con las funciones\n",
    "int(), float(), complex()**\n"
   ]
  },
  {
   "cell_type": "code",
   "execution_count": 10,
   "metadata": {},
   "outputs": [
    {
     "name": "stdout",
     "output_type": "stream",
     "text": [
      "<class 'float'> 3 (3.4+0j) 3.4\n"
     ]
    }
   ],
   "source": [
    "h=type(3.4)\n",
    "o=int(3.4)\n",
    "l=complex(3.4)\n",
    "a=float(3.4)\n",
    "print(h, o, l, a)\n",
    "#float(l) #función inválida para dato complejo\n",
    "#float(\"palabra\") #función inválida para dato string"
   ]
  },
  {
   "cell_type": "code",
   "execution_count": null,
   "metadata": {},
   "outputs": [],
   "source": [
    "#este bloque de código es para que pruebe con otros ejemplos similares de lo visto hasta ahora:\n",
    "\n"
   ]
  },
  {
   "cell_type": "markdown",
   "metadata": {},
   "source": [
    "### Operaciones Aritméticas Elementales- Ejemplos"
   ]
  },
  {
   "cell_type": "markdown",
   "metadata": {},
   "source": [
    "### Operaciones aritméticas +, -, *, /, **"
   ]
  },
  {
   "cell_type": "code",
   "execution_count": null,
   "metadata": {},
   "outputs": [],
   "source": [
    "#Ingresando un número por teclado\n",
    "x = float(input(\"Dígame un número que llameremos x: \"))\n",
    "print(\"El nro ingresado es: \",x)\n",
    "\n",
    "print(\"Tipo de x:\")\n",
    "print(type(x))  # Imprime el tipo (o `clase`) de x\n",
    "print(\"Valor de x=\",x)\n",
    "print(\"x+1=\",x+1)\n",
    "print(\"x-1=\",x-1)\n",
    "print(\"x*2=\",x*2)\n",
    "print(\"x/2=\",x/2)\n",
    "print(\"x^2=\",x**2) \n",
    "print(\"Para imprimir varios valores en una línea:\")\n",
    "print(x,x*2,x/2) # imprime varios valores a la vez en la misma línea"
   ]
  },
  {
   "cell_type": "code",
   "execution_count": null,
   "metadata": {},
   "outputs": [],
   "source": [
    "#Operaciones entre números enteros: cociente y resto (o módulo)\n",
    "a= 9\n",
    "b=2\n",
    "print(a//b)#Cociente entre enteros- Devuelve 4\n",
    "print(a%b)#Resto entre enteros- Devuelve 1"
   ]
  },
  {
   "cell_type": "code",
   "execution_count": null,
   "metadata": {},
   "outputs": [],
   "source": [
    "#este bloque de código es para que pruebe con otros ejemplos similares de lo visto hasta ahora:\n",
    "\n"
   ]
  },
  {
   "cell_type": "markdown",
   "metadata": {},
   "source": [
    "**Ejercicio 1: Definir una variable $a$ con valor 5 y una variable $b$ que sea igual al cubo de la anterior más 2. Mostrarlas en pantalla**"
   ]
  },
  {
   "cell_type": "code",
   "execution_count": null,
   "metadata": {},
   "outputs": [],
   "source": []
  },
  {
   "cell_type": "markdown",
   "metadata": {},
   "source": [
    "**Ejercicio 2: En el siguiente bloque o en un nuevo cuaderno (notebook) definir** \n",
    "* (a) la variable **var1** que contenga al número 10. Luego a \n",
    "* (b) **var2** como el doble de var y \n",
    "* (c) **var3** como el resultado de una cuenta combinada a su gusto.\n",
    "* (d) Imprima los resultados"
   ]
  },
  {
   "cell_type": "code",
   "execution_count": null,
   "metadata": {},
   "outputs": [],
   "source": []
  },
  {
   "cell_type": "markdown",
   "metadata": {},
   "source": [
    "**Lista de Operadores de Asignación**\n",
    "\n",
    "Operador =\n",
    "\n",
    "Operador +=\n",
    "\n",
    "Operador -=\n",
    "\n",
    "Operador *=\n",
    "\n",
    "Operador /=\n",
    "\n",
    "Operador**=\n",
    "\n",
    "Operador //=\n",
    "\n",
    "Operador %=\n",
    "\n"
   ]
  },
  {
   "cell_type": "code",
   "execution_count": null,
   "metadata": {},
   "outputs": [],
   "source": [
    "a=9\n",
    "a+=2\n",
    "print(a)\n",
    "a//=2\n",
    "print(a)\n",
    "a/=3\n",
    "print(a)\n",
    "print(round(a))"
   ]
  },
  {
   "cell_type": "markdown",
   "metadata": {},
   "source": [
    "**El siguiente bloque de código es para que haga pruebas a su gusto**"
   ]
  },
  {
   "cell_type": "code",
   "execution_count": null,
   "metadata": {},
   "outputs": [],
   "source": []
  },
  {
   "cell_type": "markdown",
   "metadata": {},
   "source": [
    "### Datos booleanos (True y False)\n",
    "### Operaciones Lógicas AND, OR y NOT"
   ]
  },
  {
   "attachments": {
    "image.png": {
     "image/png": "[encoded data removed]"
    }
   },
   "cell_type": "markdown",
   "metadata": {},
   "source": [
    "![image.png](attachment:image.png)"
   ]
  },
  {
   "cell_type": "code",
   "execution_count": 11,
   "metadata": {},
   "outputs": [
    {
     "name": "stdout",
     "output_type": "stream",
     "text": [
      "Valor de v1:  True Su tipo es:  <class 'bool'>\n",
      "Valor de v2:  False Su tipo es:  <class 'bool'>\n",
      "\n",
      "v1 and v2=  False\n",
      "v1 or v2=  True\n",
      "v1 negado=  False\n"
     ]
    }
   ],
   "source": [
    "#Tipo de dato booleano: 'bool'\n",
    "v1 = True #el valor verdadero: True \n",
    "v2 = False #el valor falso: False\n",
    "\n",
    "print(\"Valor de v1: \",v1, \"Su tipo es: \", type(v1))\n",
    "print(\"Valor de v2: \",v2, \"Su tipo es: \", type(v2))\n",
    "print()\n",
    "\n",
    "#Operaciones Lógicas y, o y negación\n",
    "print(\"v1 and v2= \", v1 and v2) # y lógico; imprime False\n",
    "print(\"v1 or v2= \",v1 or v2)  # o lógico; imprime True\n",
    "print(\"v1 negado= \",not v1)   # negación lógica, imprime False\n"
   ]
  },
  {
   "cell_type": "markdown",
   "metadata": {},
   "source": [
    "### Operadores para comparar:\n",
    "\n",
    "#### == ;    !=  ;   <   ;    >  ;     <=   ;     >="
   ]
  },
  {
   "cell_type": "code",
   "execution_count": 12,
   "metadata": {},
   "outputs": [
    {
     "name": "stdout",
     "output_type": "stream",
     "text": [
      "3==5 False\n",
      "3 !=6 True\n",
      "3<5 True\n"
     ]
    }
   ],
   "source": [
    "#Comparaciones \n",
    "print (\"3==5\",3 == 5)  # Imprime False ya que son distintos\n",
    "print(\"3 !=6\",3 != 6)  # Imprime True ya que son distintos\n",
    "print(\"3<5\",3 < 5)  # Imprime True ya que 3 es menor que 5\n"
   ]
  },
  {
   "cell_type": "markdown",
   "metadata": {},
   "source": [
    "\n",
    "### Estructura de Decisión: if"
   ]
  },
  {
   "cell_type": "markdown",
   "metadata": {},
   "source": [
    "Su sintaxis es\n",
    "\n",
    "if condición : \n",
    "\n",
    "    cuerpo del if #indentado con 4 espacios\n",
    "    \n",
    "else:\n",
    "    \n",
    "    cuerpo del else #indentado con 4 espacios\n"
   ]
  },
  {
   "cell_type": "code",
   "execution_count": 13,
   "metadata": {},
   "outputs": [
    {
     "name": "stdout",
     "output_type": "stream",
     "text": [
      "La persona es\n",
      "Mayor\n"
     ]
    }
   ],
   "source": [
    "#Ejemplo\n",
    "edad = 25\n",
    "\n",
    "print(\"La persona es\")\n",
    "if (edad < 18):\n",
    "    print(\"Menor\") \n",
    "else:\n",
    "    print(\"Mayor\")\n"
   ]
  },
  {
   "cell_type": "markdown",
   "metadata": {},
   "source": [
    "**Los ifs se pueden anidar**\n",
    "\n",
    "**Los ifs pueden servir a distintas alternativas **\n",
    "**Ejemplo de pseudocódigo con 4 alternativas**\n",
    "\n",
    "if condición_1:\n",
    "\n",
    "    bloque 1\n",
    "\n",
    "elif condición_2:\n",
    "    \n",
    "    bloque 2\n",
    "\n",
    "elif condición_3\n",
    "\n",
    "    bloque 3\n",
    "\n",
    "else:\n",
    "    \n",
    "    bloque 4"
   ]
  },
  {
   "cell_type": "code",
   "execution_count": 15,
   "metadata": {},
   "outputs": [
    {
     "name": "stdout",
     "output_type": "stream",
     "text": [
      "Ingrese edad: -2\n",
      "Error\n"
     ]
    }
   ],
   "source": [
    "#Ejemplo opciones múltiples\n",
    "\n",
    "edad=int(input(\"Ingrese edad: \"))\n",
    "if edad<0:\n",
    "    print(\"Error\")\n",
    "elif edad<18:\n",
    "    print(\"Menor de edad\")\n",
    "else:\n",
    "    print(\"Mayor de edad\")"
   ]
  },
  {
   "cell_type": "code",
   "execution_count": null,
   "metadata": {},
   "outputs": [],
   "source": [
    "#el mismo ejemplo pero usando operadores lógicos\n",
    "edad=int(input(\"Ingrese edad: \"))\n",
    "if edad>=18:\n",
    "    print(\"Mayor de edad\")\n",
    "else:\n",
    "    if (edad>=0 and edad<18):\n",
    "        print(\"Menor de edad\")\n",
    "    else: \n",
    "        print(\"Error\")"
   ]
  },
  {
   "cell_type": "code",
   "execution_count": null,
   "metadata": {},
   "outputs": [],
   "source": [
    "#Comparaciones\n",
    "nro1=int(input('Ingrese nro: '))\n",
    "nro2=int(input('Ingrese nro: '))\n",
    "if nro1==nro2:\n",
    "    print('\\nLos números ingresados son iguales')\n",
    "else:\n",
    "    print('\\nLos números ingresados son diferentes')"
   ]
  },
  {
   "cell_type": "code",
   "execution_count": null,
   "metadata": {},
   "outputs": [],
   "source": [
    "#Comparaciones\n",
    "nro1=int(input('Ingrese nro: '))\n",
    "nro2=int(input('Ingrese nro: '))\n",
    "if nro1!=nro2:\n",
    "    print('\\nLos números ingresados son distintos')\n",
    "else:\n",
    "    print('\\nLos números ingresados son iguales')"
   ]
  },
  {
   "cell_type": "code",
   "execution_count": null,
   "metadata": {},
   "outputs": [],
   "source": [
    "#Comparaciones\n",
    "nro1=int(input('Ingrese nro: '))\n",
    "nro2=int(input('Ingrese nro: '))\n",
    "if nro1>=nro2:\n",
    "    print('\\nEl primer número es mayor o igual que el segundo')\n",
    "else:\n",
    "    print('\\nEl primer número es menor que el segundo')"
   ]
  },
  {
   "cell_type": "markdown",
   "metadata": {},
   "source": [
    "**Ejercicio 3**\n",
    "* Ingrese un número.\n",
    "* Indique si el número es divisible por 3\n"
   ]
  },
  {
   "cell_type": "markdown",
   "metadata": {},
   "source": [
    "### Listas\n",
    "#### Elementos de una lista: se colocan entre corchetes, separados por comas\n",
    "#### El Python fue pensado para trabajar con listas\n",
    "#### Para operaciones matemáticas necesitaremos matrices\n",
    "#### Para trabajar con matrices necesitamos una LIBRERIA: Numpy\n",
    "#### Las listas pueden tener elementos de distinto tipo\n",
    "#### Las matrices o arrays multidimensionales tienen todos sus elementos del mismo tipo\n"
   ]
  },
  {
   "cell_type": "code",
   "execution_count": null,
   "metadata": {},
   "outputs": [],
   "source": [
    "#Definamos una Lista\n",
    "#Para hacerlo se usan corchetes y se separan los elementos mediante coma\n",
    "lista=[1,3,5]\n",
    "print(\"lista= \",lista, \"su tipo es \", type(lista))\n",
    "\n",
    "#acceso a un elemento de la lista\n",
    "print(lista[0])"
   ]
  },
  {
   "cell_type": "code",
   "execution_count": null,
   "metadata": {},
   "outputs": [],
   "source": [
    "lista=['gato', 1, 2,3]\n",
    "print('lista vieja ',lista)\n",
    "lista[0]=5\n",
    "print('lista nueva:', lista)\n"
   ]
  },
  {
   "cell_type": "code",
   "execution_count": null,
   "metadata": {},
   "outputs": [],
   "source": [
    "lista_nueva = list.copy()\n",
    "#agrego elemento\n",
    "lista_nueva.append('perro')\n",
    "print(\"Lista vieja\",lista)\n",
    "print('Nueva lista: ', lista_nueva)\n"
   ]
  },
  {
   "cell_type": "markdown",
   "metadata": {},
   "source": [
    "### Operadores in y not in"
   ]
  },
  {
   "cell_type": "code",
   "execution_count": 17,
   "metadata": {},
   "outputs": [
    {
     "name": "stdout",
     "output_type": "stream",
     "text": [
      "False\n",
      "False\n"
     ]
    }
   ],
   "source": [
    "#Definamos una Lista\n",
    "#Para hacerlo se usan corchetes y se separan los elementos mediante coma\n",
    "lista=[1,3,5]\n",
    "\n",
    "print(2 in lista)\n",
    "print(5 not in lista)"
   ]
  },
  {
   "cell_type": "markdown",
   "metadata": {},
   "source": [
    "### Estructuras de Repetición : for"
   ]
  },
  {
   "cell_type": "code",
   "execution_count": 22,
   "metadata": {},
   "outputs": [
    {
     "name": "stdout",
     "output_type": "stream",
     "text": [
      "esto se imprime en cada ciclo porque forma parte del for\n",
      "esto se imprime en cada ciclo porque forma parte del for\n",
      "esto se imprime en cada ciclo porque forma parte del for\n",
      "esto se imprime en cada ciclo porque forma parte del for\n",
      "\n",
      "esto se imprime fuera del ciclo\n",
      "La lista es [4, 8, 12, 18]\n",
      "La suma de los números de la lista es:\n",
      "42\n"
     ]
    }
   ],
   "source": [
    "#Ejemplo for en lista\n",
    "#Permite recorrer todos los elementos de una lista\n",
    "#En el mismo for se le pone nombre a la variable que almacena cada elemento\n",
    "#En este caso la lista se llama mis_numeros y cada elemento numero\n",
    "\n",
    "#El objetivo del código es sumar todos los elementos de la lista\n",
    "#El acumulador debe inicializarse en 0\n",
    "#De lo contrario guardará el valor en caso de hacerse otras corridas\n",
    "\n",
    "suma=0\n",
    "mis_numeros=[4,8,12,18] \n",
    "#la variable numero designará a los elementos de la lista\n",
    "for numero in mis_numeros:\n",
    "    suma=suma+numero\n",
    "    print(\"esto se imprime en cada ciclo porque forma parte del for\")\n",
    "\n",
    "print()\n",
    "print(\"esto se imprime fuera del ciclo\")\n",
    "print('La lista es',mis_numeros)\n",
    "print(\"La suma de los números de la lista es:\")\n",
    "print(suma)\n"
   ]
  },
  {
   "cell_type": "markdown",
   "metadata": {},
   "source": [
    "**Función range:**\n",
    "    #con un parámetro, este indica la cantidad de elementos. Empieza en 0, salto implícito 1.\n",
    "    #con dos parámetros, el primero indica el principio, el otro el final que es abierto (no lo incluye).\n",
    "    #con tres parámetros, indican principio, el final abierto, el paso o salto.\n",
    "\n",
    "**El intervalo es abierto a derecha**\n",
    "\n",
    "Ejemplos:\n",
    "\n",
    "range(3): 0 1 2\n",
    "\n",
    "range(2,6): 2, 3, 4, 5\n",
    "\n",
    "range(1,6,2): 1,3,5  \n"
   ]
  },
  {
   "cell_type": "code",
   "execution_count": 103,
   "metadata": {},
   "outputs": [
    {
     "name": "stdout",
     "output_type": "stream",
     "text": [
      "Un for para range de 0 a 3\n",
      "0\n",
      "1\n",
      "2\n",
      "3\n",
      "\n",
      "Un for para range de 2 a 5:\n",
      "2\n",
      "3\n",
      "4\n",
      "5\n",
      "\n",
      "Un for para range de 2 a 11, salto 3\n",
      "2\n",
      "5\n",
      "8\n",
      "\n"
     ]
    }
   ],
   "source": [
    "print(\"Un for para range de 0 a 3\")\n",
    "for i in range(4):\n",
    "    print(i)\n",
    "print()    \n",
    "\n",
    "print(\"Un for para range de 2 a 5:\")\n",
    "for j in range(2,6):\n",
    "    print(j)\n",
    "print()\n",
    "\n",
    "print(\"Un for para range de 2 a 11, salto 3\")# Observar que no incluirá el 11\n",
    "for z in range(2,11,3):\n",
    "    print(z)\n",
    "print()"
   ]
  },
  {
   "cell_type": "code",
   "execution_count": 27,
   "metadata": {},
   "outputs": [
    {
     "name": "stdout",
     "output_type": "stream",
     "text": [
      "ingrese número:4\n",
      "ingrese número:5\n",
      "ingrese número:1\n",
      "ingrese número:9\n",
      "suma=  19\n",
      "Promedio 4.75\n"
     ]
    }
   ],
   "source": [
    "#Ingreso números (variable que llamo dato)\n",
    "#range(n) me indica que ingresaré n números\n",
    "#los acumulo en una variable, en este caso llamada suma\n",
    "#Muestro la suma\n",
    "\n",
    "suma=0\n",
    "for z in range(4):\n",
    "    dato=int(input(\"ingrese número:\"))\n",
    "    suma+=dato\n",
    "print(\"suma= \", suma)\n",
    "print(\"Promedio\",suma/(z+1))\n"
   ]
  },
  {
   "cell_type": "markdown",
   "metadata": {},
   "source": [
    "**Ejercicio 4**\n",
    "* Ingrese 5 números.\n",
    "* Cuente los que son pares. \n",
    "    * (para esto defina una variable contador, e inicialízela en 0, antes del bloque for)\n",
    "* Muestre dicha suma."
   ]
  },
  {
   "cell_type": "code",
   "execution_count": null,
   "metadata": {},
   "outputs": [],
   "source": []
  },
  {
   "cell_type": "markdown",
   "metadata": {},
   "source": [
    "### Funciones Definidas por el Usuario"
   ]
  },
  {
   "cell_type": "markdown",
   "metadata": {},
   "source": [
    "*Las funciones se definen con la palabra clave def*\n",
    "\n",
    "**Sintaxis**\n",
    "\n",
    "def nombre_funcion(parametros):\n",
    "    \n",
    "    Cuerpo de la función\n",
    "    \n",
    "    return\n"
   ]
  },
  {
   "cell_type": "code",
   "execution_count": null,
   "metadata": {},
   "outputs": [],
   "source": [
    "def sumar(a,b):\n",
    "    return a+b\n"
   ]
  },
  {
   "cell_type": "markdown",
   "metadata": {},
   "source": [
    "**Llamada a la función**"
   ]
  },
  {
   "cell_type": "code",
   "execution_count": null,
   "metadata": {},
   "outputs": [],
   "source": [
    "c=sumar(2,5)\n",
    "print(\"La suma es\")\n",
    "print(c)\n"
   ]
  },
  {
   "cell_type": "code",
   "execution_count": 28,
   "metadata": {},
   "outputs": [],
   "source": [
    "#Definir y usar una función que dé el signo de un número\n",
    "def signo(x):\n",
    "    if x > 0:\n",
    "        return 'positivo'\n",
    "    elif x < 0:\n",
    "        return 'negativo'\n",
    "    else:\n",
    "        return 'cero'"
   ]
  },
  {
   "cell_type": "markdown",
   "metadata": {},
   "source": [
    "**Llamada a la función**"
   ]
  },
  {
   "cell_type": "code",
   "execution_count": 29,
   "metadata": {},
   "outputs": [
    {
     "name": "stdout",
     "output_type": "stream",
     "text": [
      "negativo\n",
      "cero\n",
      "positivo\n"
     ]
    }
   ],
   "source": [
    "for x in [-1, 0, 1]:\n",
    "    print(signo(x))\n",
    "# Imprime en pantalla \"negativo\", \"cero\", \"positivo\""
   ]
  },
  {
   "cell_type": "markdown",
   "metadata": {},
   "source": [
    "**Ejercicio 5**\n",
    "* defina una función sencilla con dos parámetros\n",
    "* impleméntela en dos valores concretos"
   ]
  },
  {
   "cell_type": "code",
   "execution_count": null,
   "metadata": {},
   "outputs": [],
   "source": []
  },
  {
   "cell_type": "markdown",
   "metadata": {},
   "source": [
    "### Qué es una librería?\n",
    "** Librerías\n",
    "** En informática, una biblioteca o, llamada por vicio del lenguaje librería (del inglés library) es un conjunto de implementaciones funciones, codificadas en un lenguaje de programación, que realizan una serie de tareas específicas y se incluyen o importan en el programa evitando tener que reescribir esos códigos."
   ]
  },
  {
   "cell_type": "markdown",
   "metadata": {},
   "source": [
    "## Librería numpy"
   ]
  },
  {
   "cell_type": "markdown",
   "metadata": {},
   "source": [
    "### Observaciones:\n",
    "Los tipos de datos predefinidos en Python no precisan el agregado de librerías\n",
    "Otros tipos de datos precisan la importación de librerías específicas. \n",
    "Una de las librerías más importantes para nosotros es numpy.\n",
    "\n",
    "* Librería **numpy**: sirve para realizar operaciones matriciales en Python. \n",
    "* La forma de \"llamar\", \"cargar\" o importar una libreria xxxxxx es la siguiente: \n",
    "* import xxxxxx as xx \n",
    "* donde xx es el nombre corto que le asignamos para poder llamar sus funciones, por ejemplo:\n"
   ]
  },
  {
   "cell_type": "code",
   "execution_count": null,
   "metadata": {},
   "outputs": [],
   "source": [
    "import numpy as np #shift+entr para ejecutar (o botón Run)\n",
    "#No es necesario asignarle un nombre corto, pero es útil"
   ]
  },
  {
   "cell_type": "markdown",
   "metadata": {},
   "source": [
    "## Librería numpy\n",
    "\n",
    "v=np.array(list) Convierte lista en array\n",
    "\n",
    "### Algunas funciones numpy para arreglos - Alias np\n",
    "\n",
    "Dado un vector llamado v:\n",
    "\n",
    "np.len(v) np.sum(v) np.mean(v) np.median(v) np.max(v) np.min(v) np.std(v) np.round(v)\n",
    "\n",
    "np.float32(v) np.int32(v)    cambia el tipo de dato\n",
    "\n",
    "np.concatenate((array2D_1,array2D_2),axis=1) o np.concatenate((array2D_1,array2D_2),axis=0)\n",
    "\n",
    "np.unique(v) #quita los elementos repetidos"
   ]
  },
  {
   "cell_type": "markdown",
   "metadata": {},
   "source": [
    "**La función arange funciona igual que range, pero genera un vector**\n",
    "* np.arange(n)\n",
    "* np.arange(a,b)\n",
    "* np.arange(a,b,c)\n",
    "- Función arange con 1 parámetro: empieza en 0, paso=1\n",
    "- Función arange con 2 parámetros (inicio, final), supone paso=1\n",
    "- Función arange con 3 parámetros (inicio, final, paso), fija el paso.\n",
    "\n",
    "**El final no pertenece al conjunto**\n"
   ]
  },
  {
   "cell_type": "markdown",
   "metadata": {},
   "source": [
    "### Vectores :  1D-array\n",
    "Ejemplo:\n",
    "\n",
    "Sea el vector  $v = (25, 8, 20, 75)$ \n",
    "\n",
    "Muestre el vector, su tipo, la longitud de v, máximo y mínimo valor de v\n",
    "\n",
    "Muestre la suma de los elementos de v\n",
    "\n",
    "Muestre la media de los elementos de v\n"
   ]
  },
  {
   "cell_type": "code",
   "execution_count": 36,
   "metadata": {},
   "outputs": [
    {
     "name": "stdout",
     "output_type": "stream",
     "text": [
      "[25.0, 8.0, 20.0, 75.0]\n",
      "<class 'list'>\n",
      "\n",
      "v= [25.  8. 20. 75.]\n",
      "tipo de v: <class 'numpy.ndarray'>\n",
      "\n",
      "longitud de v: 4\n",
      "máximo de v: 75.0\n",
      "mínimo de v: 8.0\n",
      "suma de los valores de v 128.0\n",
      "El valor medio es 32.0\n"
     ]
    }
   ],
   "source": [
    "import numpy as np\n",
    "ve=[25., 8., 20., 75.] \n",
    "print(ve)\n",
    "print(type(ve))\n",
    "print()\n",
    "\n",
    "v=np.array(ve) #Transformo la lista en vector\n",
    "print(\"v=\", v) #El vector no lleva comas separando los elementos\n",
    "print(\"tipo de v:\", type(v)) #el tipo es numpy.ndarray\n",
    "print()\n",
    "print(\"longitud de v:\", len(v))\n",
    "\n",
    "# máximo y mínimo valor de v\n",
    "print(\"máximo de v:\", v.max()) #función de numpy.ndarray: np.max()\n",
    "\n",
    "print(\"mínimo de v:\", v.min())\n",
    "\n",
    "print(\"suma de los valores de v\", v.sum())\n",
    "\n",
    "print(\"El valor medio es\",v.mean())\n",
    "#También puede hacer\n",
    "#print(np.min(v)), np.max(v), np.sum(v)) "
   ]
  },
  {
   "cell_type": "code",
   "execution_count": 37,
   "metadata": {},
   "outputs": [
    {
     "name": "stdout",
     "output_type": "stream",
     "text": [
      "vector u [ 5  9 10 -1]\n",
      "vector v [-2  0  5  4]\n",
      "vector suma= [ 3  9 15  3]\n",
      "2*vector suma= [ 6 18 30  6]\n",
      "Restamos 3 a cada elemento del vector anterior [ 3 15 27  3]\n",
      "Valor medio del vector resultado 12.0\n"
     ]
    }
   ],
   "source": [
    "#Ejemplo\n",
    "\n",
    "#Definir dos vectores y mostrarlos\n",
    "    # Defina el vector u=[5, 9, 10, -1]\n",
    "\n",
    "    # Defina el vector v=[-2, 0, 5, 4]\n",
    "\n",
    "#Calcule y muestre la suma\n",
    "#Multiplique el vector suma por el escalar 2. Muestre.\n",
    "#Reste a cada elemento del vector anterior el escalar 3.\n",
    "#Muestre el valor medio del vector obtenido\n",
    "\n",
    "import numpy as np\n",
    "\n",
    "u=np.array([5, 9,  10, -1]) #Transforma la lista en vector\n",
    "v=np.array([-2, 0, 5, 4])\n",
    "print(\"vector u\", u)\n",
    "print(\"vector v\",v)\n",
    "\n",
    "z=u+v\n",
    "print(\"vector suma=\",z)\n",
    "\n",
    "w=2*z\n",
    "print(\"2*vector suma=\",w)\n",
    "\n",
    "t=w-3\n",
    "print(\"Restamos 3 a cada elemento del vector anterior\",t)\n",
    "\n",
    "print(\"Valor medio del vector resultado\",np.mean(t))\n"
   ]
  },
  {
   "cell_type": "markdown",
   "metadata": {},
   "source": [
    "**Ejercicio 6 **\n",
    "\n",
    "Defina el vector u=$[2, 5, 6, -1]$\n",
    "\n",
    "Defina el vector v=$[-6, 0, 1, 8]$\n",
    "\n",
    "Muestre ambos vectores.\n",
    "\n",
    "Calcule y muestre el resultado de sumar el doble del primer vector y el triple del segundo.\n",
    "\n",
    "Muestre la suma de los elementos del vector obtenido, el mínimo, el máximo y el valor medio."
   ]
  },
  {
   "cell_type": "code",
   "execution_count": null,
   "metadata": {},
   "outputs": [],
   "source": []
  },
  {
   "cell_type": "markdown",
   "metadata": {},
   "source": [
    "### Otras facilidades de la librería numpy para arreglos - Alias np\n",
    "    np.zeros(n) Vector de n ceros\n",
    "    np.ones(n) Vector de n unos\n",
    "    np.full(n,m) Vector de n elementos todos iguales al valor m\n",
    "    np.linspace(a,b,n)\n",
    "        Ejemplo:np.linspace(0,1,5) Vector que empieza en 0 termina en 1 y tiene 5 valores."
   ]
  },
  {
   "cell_type": "code",
   "execution_count": 54,
   "metadata": {},
   "outputs": [
    {
     "name": "stdout",
     "output_type": "stream",
     "text": [
      "x= [0. 0. 0. 0.] u= [1. 1. 1. 1.] t= [7 7 7 7]\n",
      "\n",
      "[ 5  8 11 14]\n",
      "[ 5  8 11 14]\n",
      "<class 'numpy.int32'>\n",
      "<class 'numpy.float32'>\n"
     ]
    }
   ],
   "source": [
    "#Genera un vector de 4 ceros\n",
    "#Genera un vector de 4 unos\n",
    "#Genera un vector de 4 sietes\n",
    "#Genera un vector s que empiece en 5, tenga un paso de 3 y no llegue al 16\n",
    "#A partir de s genera sn cambiando el tipo de dato de s a float32\n",
    "#Muestra el tipo de dato de s y sn (usar el primer elemento)\n",
    "\n",
    "import numpy as np\n",
    "\n",
    "x=np.zeros(4) #Genera vector de 4 ceros\n",
    "u=np.ones(4) #Genera vector de 4 unos\n",
    "t=np.full(4,7)#Genera vector de 4 sietes\n",
    "print(\"x=\",x,\"u=\",u,\"t=\",t),print()#Muestra los tres vectores generados y deja línea en blanco\n",
    "\n",
    "print(np.arange(5,16,3))#Muestra el vector [5,7,11,14]\n",
    "s=np.arange(5,16,3)#Lo guarda en la variable s\n",
    "print(s)#Muestra el vector s\n",
    "\n",
    "print(type(s[0]))#Muestra el tipo de dato de los elementos de s\n",
    "sn=np.float32(s)#Cambia el tipo de dato a float32 y lo asigna a una variable sn\n",
    "print(type(sn[0]))#Muestra el tipo de dato de sn"
   ]
  },
  {
   "cell_type": "code",
   "execution_count": 55,
   "metadata": {},
   "outputs": [
    {
     "name": "stdout",
     "output_type": "stream",
     "text": [
      "[0.   0.25 0.5  0.75 1.  ]\n",
      "Los 3 primeros elementos son:\n",
      "[0.   0.25 0.5 ]\n"
     ]
    }
   ],
   "source": [
    "#Generar un vector con linspace. Ver el tipo de dato\n",
    "#Mostrar los 3 primeros elementos\n",
    "\n",
    "linea=np.linspace(0,1,5)\n",
    "print(linea)\n",
    "\n",
    "print('Los 3 primeros elementos son:')\n",
    "r=linea[0:3]#muestra 3 elementos. Siempre el intervalo es abierto a derecha.\n",
    "print(r)"
   ]
  },
  {
   "cell_type": "markdown",
   "metadata": {},
   "source": [
    "\n",
    "\n",
    "**Ejemplo**\n",
    "\n",
    "Defina y muestre un vector s que empiece en 2, su paso sea igual a 3 y no supere el 21.\n",
    "\n",
    "Muestre el sexto elemento de s.\n",
    "\n",
    "Genere un vector r desde el segundo elemento al 5. \n",
    "\n",
    "Muestre el último elemento de r.\n",
    "\n",
    "Muestre el vector de los cuadrados de cada elemento\n",
    "\n",
    "Muestre el vector de cada elemento del anterior elevado a un exponente igual a dicho elemento\n",
    "\n"
   ]
  },
  {
   "cell_type": "code",
   "execution_count": 112,
   "metadata": {},
   "outputs": [
    {
     "name": "stdout",
     "output_type": "stream",
     "text": [
      "[ 2  5  8 11 14 17 20]\n",
      "elemento posición 6:  17\n",
      "\n",
      "Vector recortado segundo a cuarto elemento:  [ 5  8 11]\n",
      "\n",
      "El último elemento del vector recortado es:  11\n",
      "El ultimo elemento del vector recortado es:  11\n",
      "\n",
      "Los cuadrados del vector recortado son: [ 25  64 121]\n",
      "\n",
      "Los cuadrados de los elementos del vector anterior en tipo flotante son: [ 25.  64. 121.]\n"
     ]
    }
   ],
   "source": [
    "#Resolución\n",
    "import numpy as np\n",
    "\n",
    "s=np.arange(2,21,3);print(s)\n",
    "\n",
    "print(\"elemento posición 6: \",s[5]);print()\n",
    "\n",
    "r=s[1:4]\n",
    "print(\"Vector recortado segundo a cuarto elemento: \",r);print()\n",
    "\n",
    "print(\"El último elemento del vector recortado es: \",r[len(r)-1] )\n",
    "print(\"El ultimo elemento del vector recortado es: \", r[-1])#cuenta para atrás\n",
    "print()\n",
    "\n",
    "print(\"Los cuadrados del vector recortado son:\", r*r);print()\n",
    "\n",
    "t=(np.float32(r))#Cambio el tipo de dato del vector recortado a float32\n",
    "print('Los cuadrados de los elementos del vector anterior en tipo flotante son:',t*t)\n"
   ]
  },
  {
   "cell_type": "code",
   "execution_count": 49,
   "metadata": {},
   "outputs": [
    {
     "name": "stdout",
     "output_type": "stream",
     "text": [
      "[[0. 0.]\n",
      " [0. 0.]]\n",
      "[[1. 1.]]\n",
      "[[7. 7.]\n",
      " [7. 7.]]\n",
      "[[1. 0.]\n",
      " [0. 1.]]\n",
      "[[0.80138868 0.79302499]\n",
      " [0.37418225 0.44671588]]\n",
      "[[1 4 1 3 2]\n",
      " [4 0 4 1 0]\n",
      " [4 4 1 2 3]\n",
      " [3 1 3 1 0]\n",
      " [2 4 0 1 3]]\n"
     ]
    }
   ],
   "source": [
    "#Arrays multidimensionales\n",
    "#Consideraremos bidimensionales\n",
    "\n",
    "import numpy as np\n",
    "\n",
    "a = np.zeros((2,2))   # Bidimensional 2x2\n",
    "print(a)              # Muestra \"[[ 0.  0.]\n",
    "                      #          [ 0.  0.]]\"\n",
    "\n",
    "b = np.ones((1,2))    # Bidimensional: 1x2\n",
    "print(b)              # Muestra \"[[ 1.  1.]]\"\n",
    "\n",
    "c = np.full((2,2), 7.)  # Un array de elementos iguales\n",
    "print(c)               # Muestra \"[[ 7.  7.]\n",
    "                       #          [ 7.  7.]]\"\n",
    "\n",
    "d = np.eye(2)         # Crea la matriz identidad 2x2\n",
    "print(d)              # Muestra \"[[ 1.  0.]\n",
    "                      #          [ 0.  1.]]\"\n",
    "\n",
    "e = np.random.random((2,2))  # Crea un array 2x2 de elementos aleatorios\n",
    "print(e)                     # por ejemplo \"[[ 0.91940167  0.08143941]\n",
    "                             #               [ 0.68744134  0.87236687]]\"\n",
    "\n",
    "# La función np.random.* tiene variantes (*)\n",
    "# numpy.random.random(size)¶\n",
    "# Return random floats in the half-open interval [0.0, 1.0).\n",
    "\n",
    "print(np.random.randint(5,size=(5, 5)))\n"
   ]
  },
  {
   "cell_type": "code",
   "execution_count": 107,
   "metadata": {},
   "outputs": [
    {
     "name": "stdout",
     "output_type": "stream",
     "text": [
      "La dimensión de la matriz es  (3, 4)\n",
      "La cantidad de elementos de la matriz es 12\n",
      "\n",
      "Elemento fila 3, columna 2  10\n",
      "\n",
      "La matriz es:  [[ 1  2  3  4]\n",
      " [ 5  6  7  8]\n",
      " [ 9 10 11 12]]\n",
      "\n",
      "El subarray de las dos primeras filas y las columnas 2 y 3 es: \n",
      "[[2 3]\n",
      " [6 7]]\n",
      "\n",
      "[[ 1 77  3  4]\n",
      " [ 5  6  7  8]\n",
      " [ 9 10 11 12]]\n",
      "\n",
      "[[77  3]\n",
      " [ 6  7]]\n",
      "\n"
     ]
    }
   ],
   "source": [
    "import numpy as np\n",
    "\n",
    "# Crear un array 3x4 con los siguientes números\n",
    "# [[ 1  2  3  4]\n",
    "#  [ 5  6  7  8]\n",
    "#  [ 9 10 11 12]]\n",
    "\n",
    "#Mostrar la dimensión (shape) y la cantidad de elementos (size)\n",
    "\n",
    "#Mostrar el elemento de la fila 3, columna 2 a[2,1]\n",
    "\n",
    "# Extraer el subarray que contenga las primeras dos filas y las columnas 2 y 3\n",
    "# [[2 3]\n",
    "#  [6 7]]\n",
    "\n",
    "#Cambiar el primer elemento de fila y columna por 77\n",
    "\n",
    "a = np.array([[1,2,3,4], [5,6,7,8], [9,10,11,12]])\n",
    "print(\"La dimensión de la matriz es \",a.shape) # Da la dimensión de a\n",
    "print(\"La cantidad de elementos de la matriz es\",a.size)# Da la cantidad de elementos de a\n",
    "print()\n",
    "\n",
    "print(\"Elemento fila 3, columna 2 \",a[2,1]);print()\n",
    "\n",
    "b = a[:2, 1:3] #siempre los intervalos son abiertos a derecha\n",
    "print(\"La matriz es: \",a)\n",
    "print()\n",
    "print(\"El subarray de las dos primeras filas y las columnas 2 y 3 es: \")\n",
    "print(b);print()\n",
    "\n",
    "b[0, 0] = 77     # b[0, 0] Ojo! este b modifica también el dato correspondiente en a!\n",
    "print(a);print()   # Muestra \"77\"\n",
    "print(b);print()\n"
   ]
  },
  {
   "cell_type": "code",
   "execution_count": 58,
   "metadata": {},
   "outputs": [
    {
     "name": "stdout",
     "output_type": "stream",
     "text": [
      "[1 0 5]\n",
      "[1 9 5]\n"
     ]
    }
   ],
   "source": [
    "import numpy as np\n",
    "#Para no modificar ambos vectores copiados en un cambio se usa el comando copy.\n",
    "vector_viejo=np.array([1, 0, 5])\n",
    "vector_nuevo=np.copy(vector_viejo)\n",
    "vector_nuevo[1]=9\n",
    "print(vector_viejo)\n",
    "print(vector_nuevo)"
   ]
  },
  {
   "cell_type": "code",
   "execution_count": 109,
   "metadata": {},
   "outputs": [
    {
     "name": "stdout",
     "output_type": "stream",
     "text": [
      "[[ 1  2  3  4]\n",
      " [ 5  6  7  8]\n",
      " [ 9 10 11 12]]\n",
      "\n",
      "[5 6 7 8] (4,)\n",
      "\n",
      "[[5 6 7 8]] (1, 4)\n",
      "\n",
      "[ 2  6 10] (3,)\n",
      "\n",
      "[[ 2]\n",
      " [ 6]\n",
      " [10]] (3, 1)\n",
      "\n",
      "8\n"
     ]
    }
   ],
   "source": [
    "#Ejercicio a hacer después #Extraer subarrays #Concatenar arrays\n",
    "import numpy as np\n",
    "# Crear matriz dimensiones (3,4)\n",
    "# [[ 1  2  3  4]\n",
    "#  [ 5  6  7  8]\n",
    "#  [ 9 10 11 12]]\n",
    "\n",
    "a = np.array([[1,2,3,4], [5,6,7,8], [9,10,11,12]]) #Ingreso como lista y transforma con np.array(l)\n",
    "print(a);print()\n",
    "#Filas\n",
    "row_r1 = a[1, :]    # Segunda fila. Todas las columnas- Separa como vector\n",
    "row_r2 = a[1:2, :]  # Segunda fila. Todas las columnas- Separa como array 2D\n",
    "print(row_r1, row_r1.shape);print()  # Muestra \"5 6 7 8] (4,)\"\n",
    "print(row_r2, row_r2.shape);print()  # Muestra \"[[5 6 7 8]] (1, 4)\"\n",
    "\n",
    "# Columnas\n",
    "col_r1 = a[:, 1]\n",
    "col_r2 = a[:, 1:2]\n",
    "print(col_r1, col_r1.shape);print()  # Muestra \"[ 2  6 10] (3,)\"\n",
    "print(col_r2, col_r2.shape);print()  # Muestra \"[[ 2]\n",
    "                             #          [ 6]\n",
    "                             #          [10]] (3, 1)\"\n",
    "#Para mostrar un elemento\n",
    "print(a[1,3])\n"
   ]
  },
  {
   "cell_type": "code",
   "execution_count": 62,
   "metadata": {},
   "outputs": [
    {
     "name": "stdout",
     "output_type": "stream",
     "text": [
      "Primer caso de concatenado, axis=1\n",
      " [[ 1  2  3  4  1  2  3  4]\n",
      " [ 5  6  7  8  5  6  7  8]\n",
      " [ 9 10 11 12  9 10 11 12]]\n",
      "\n",
      "Segundo caso de Concatenado, axis=0\n",
      " [[ 1  2  3  4]\n",
      " [ 5  6  7  8]\n",
      " [ 9 10 11 12]\n",
      " [ 1  2  3  4]\n",
      " [ 5  6  7  8]\n",
      " [ 9 10 11 12]]\n"
     ]
    }
   ],
   "source": [
    "#Concatenar arrays\n",
    "#Concatenado de matrices (np.concatenate)\n",
    "#Axis=0 es Vertical\n",
    "#Axis=1 es Horizontal\n",
    "DobleAvertical=np.concatenate((a,a),axis=0)\n",
    "print(\"\\nSegundo caso de Concatenado, axis=0\\n\",DobleAvertical)\n",
    "DobleAhorizontal=np.concatenate((a,a),axis=1)\n",
    "print(\"Primer caso de concatenado, axis=1\\n\",DobleAhorizontal)"
   ]
  },
  {
   "cell_type": "code",
   "execution_count": null,
   "metadata": {},
   "outputs": [],
   "source": [
    "#Axis=0 es Vertical\n",
    "#Axis=1 es Horizontal\n",
    "import numpy as np\n",
    "x = np.array([[1,2],[3,4]])\n",
    "print(np.sum(x))  # Suma todos los elementos \"10\"\n",
    "print(np.sum(x, axis=0))  # Suma los elementos de las columnas; \"[4 6]\"\n",
    "print(np.sum(x, axis=1))  # Suma los elementos por fila \"[3 7]\""
   ]
  },
  {
   "cell_type": "code",
   "execution_count": 63,
   "metadata": {},
   "outputs": [
    {
     "name": "stdout",
     "output_type": "stream",
     "text": [
      "[[False False]\n",
      " [ True  True]\n",
      " [ True  True]]\n",
      "[3 4 5 6]\n",
      "[3 4 5 6]\n"
     ]
    }
   ],
   "source": [
    "#Detectar los elementos que cumplen una condición en un array\n",
    "import numpy as np\n",
    "a = np.array([[1,2], [3, 4], [5, 6]])\n",
    "\n",
    "bool_idx = (a > 2)   # Encuentra los elementos mayores que 2\n",
    "                     # Devuelve una matriz de la misma dimensión que a con valores booleanos\n",
    "                    \n",
    "print(bool_idx)      # Muestra \"[[False False]\n",
    "                     #          [ True  True]\n",
    "                     #          [ True  True]]\"\n",
    "\n",
    "print(a[bool_idx])  # muestra \"[3 4 5 6]\"\n",
    "#Se puede lograr en una sola sentencia\n",
    "print(a[a > 2])     # Muestra \"[3 4 5 6]\""
   ]
  },
  {
   "cell_type": "code",
   "execution_count": 64,
   "metadata": {},
   "outputs": [
    {
     "name": "stdout",
     "output_type": "stream",
     "text": [
      "int32\n",
      "float64\n",
      "int64\n"
     ]
    }
   ],
   "source": [
    "#Forzar el tipo de dato del array\n",
    "import numpy as np\n",
    "v = np.array([1, 2])   # numpy elige el tipo de dato\n",
    "print(v.dtype)         # En este caso \"int64\"\n",
    "\n",
    "v = np.array([1.0, 2.0])   # numpy elige el tipo de dato\n",
    "print(v.dtype)             # en este caso \"float64\"\n",
    "\n",
    "v = np.array([1, 2], dtype=np.int64)   # fuerza el tipo de dato a int64\n",
    "print(v.dtype)                         # muestra \"int64\""
   ]
  },
  {
   "cell_type": "code",
   "execution_count": 68,
   "metadata": {},
   "outputs": [
    {
     "name": "stdout",
     "output_type": "stream",
     "text": [
      "x= [[1. 2.]\n",
      " [3. 4.]]\n",
      "y= [[5. 6.]\n",
      " [7. 8.]]\n",
      "\n",
      "x+y=  [[ 6.  8.]\n",
      " [10. 12.]]\n",
      "np.add(x,y)=  [[ 6.  8.]\n",
      " [10. 12.]]\n",
      "\n",
      "x-y= [[-4. -4.]\n",
      " [-4. -4.]]\n",
      "np.substract(x,y) [[-4. -4.]\n",
      " [-4. -4.]]\n",
      "\n"
     ]
    }
   ],
   "source": [
    "#Operaciones con arrays en python\n",
    "#Suma- Resta\n",
    "import numpy as np\n",
    "x = np.array([[1,2],[3,4]], dtype=np.float64)\n",
    "y = np.array([[5,6],[7,8]], dtype=np.float64)\n",
    "print(\"x=\",x)\n",
    "print(\"y=\",y)\n",
    "print()\n",
    "# Suma elemento a elemento\n",
    "print(\"x+y= \",x + y)\n",
    "print(\"np.add(x,y)= \",np.add(x, y))\n",
    "print()\n",
    "\n",
    "# Diferencia elemento a elemento\n",
    "print(\"x-y=\",x - y)\n",
    "print(\"np.substract(x,y)\",np.subtract(x, y))\n",
    "print()\n"
   ]
  },
  {
   "cell_type": "code",
   "execution_count": 69,
   "metadata": {},
   "outputs": [
    {
     "name": "stdout",
     "output_type": "stream",
     "text": [
      "x= [[1. 2.]\n",
      " [3. 4.]]\n",
      "y= [[5. 6.]\n",
      " [7. 8.]]\n",
      "\n",
      "x*y=  [[ 5. 12.]\n",
      " [21. 32.]]\n",
      "np.multiply(x,y)  [[ 5. 12.]\n",
      " [21. 32.]]\n",
      "\n",
      "x/y=  [[0.2        0.33333333]\n",
      " [0.42857143 0.5       ]]\n",
      "np.divide(x,y) [[0.2        0.33333333]\n",
      " [0.42857143 0.5       ]]\n",
      "\n",
      "np.sqrt(x)= [[1.         1.41421356]\n",
      " [1.73205081 2.        ]]\n"
     ]
    }
   ],
   "source": [
    "#Continuación Operaciones con Arrays\n",
    "import numpy as np\n",
    "x = np.array([[1,2],[3,4]], dtype=np.float64)\n",
    "y = np.array([[5,6],[7,8]], dtype=np.float64)\n",
    "print(\"x=\",x)\n",
    "print(\"y=\",y)\n",
    "print()\n",
    "# Producto elemento a elemento\n",
    "# [[ 5.0 12.0]\n",
    "#  [21.0 32.0]]\n",
    "print(\"x*y= \",x * y)\n",
    "print(\"np.multiply(x,y) \",np.multiply(x, y))\n",
    "print()\n",
    "\n",
    "# División elemento a elemento\n",
    "# [[ 0.2         0.33333333]\n",
    "#  [ 0.42857143  0.5       ]]\n",
    "print(\"x/y= \",x / y)\n",
    "print(\"np.divide(x,y)\",np.divide(x, y))\n",
    "print()\n",
    "\n",
    "# Raíz cuadrada, elemento a elemento\n",
    "# [[ 1.          1.41421356]\n",
    "#  [ 1.73205081  2.        ]]\n",
    "print(\"np.sqrt(x)=\",np.sqrt(x))"
   ]
  },
  {
   "cell_type": "code",
   "execution_count": 78,
   "metadata": {},
   "outputs": [
    {
     "name": "stdout",
     "output_type": "stream",
     "text": [
      "v=  [ 9 10]\n",
      "w=  [11 12]\n",
      "Producto escalar= \n",
      "219\n",
      "219\n",
      "\n",
      "v1=  [3 4]\n",
      "v2=  [ 4 -3]\n",
      "Producto escalar=  0\n",
      "\n"
     ]
    }
   ],
   "source": [
    "import numpy as np\n",
    "v = np.array([9,10])\n",
    "w = np.array([11, 12])\n",
    "\n",
    "# Producto escalar de vectores \n",
    "print(\"v= \",v)\n",
    "print(\"w= \",w)\n",
    "print(\"Producto escalar= \")\n",
    "print(np.dot(v, w))\n",
    "#print(v@w),print()# También se puede usar esta expresión\n",
    "\n",
    "v1 = np.array([3, 4])\n",
    "v2 = np.array([4, -3])\n",
    "print(\"v1= \",v1)\n",
    "print(\"v2= \",v2)\n",
    "print(\"Producto escalar= \",v1 @ v2)\n",
    "print() #Qué indica el resultado?\n"
   ]
  },
  {
   "cell_type": "code",
   "execution_count": 82,
   "metadata": {},
   "outputs": [
    {
     "name": "stdout",
     "output_type": "stream",
     "text": [
      "x=  [[1 2]\n",
      " [3 4]]\n",
      "y= [[5. 6.]\n",
      " [7. 8.]]\n",
      "v= [ 9 10]\n",
      "\n",
      "Producto matricial entre x y v\n",
      "[29 67]\n",
      "\n",
      "Producto matricial entre x e y\n",
      "[[19. 22.]\n",
      " [43. 50.]]\n"
     ]
    }
   ],
   "source": [
    "import numpy as np\n",
    "x = np.array([[1,2],[3,4]])\n",
    "y = np.array([[5,6],[7,8]], dtype=np.float64)\n",
    "v = np.array([9,10])\n",
    "print(\"x= \",x)\n",
    "print(\"y=\",y)\n",
    "print(\"v=\",v)\n",
    "print()\n",
    "# Producto \n",
    "print(\"Producto matricial entre x y v\")\n",
    "#print(x.dot(v))\n",
    "print(np.dot(x, v))\n",
    "print()\n",
    "print(\"Producto matricial entre x e y\")\n",
    "#print(x.dot(y))\n",
    "print(np.dot(x, y))\n"
   ]
  },
  {
   "cell_type": "code",
   "execution_count": 83,
   "metadata": {},
   "outputs": [
    {
     "name": "stdout",
     "output_type": "stream",
     "text": [
      "Matriz= [[1 2]\n",
      " [3 4]]\n",
      "Transpuesta calculada como (x.T)=  [[1 3]\n",
      " [2 4]]\n",
      "np.transpose(x)=  [[1 3]\n",
      " [2 4]]\n",
      "\n"
     ]
    }
   ],
   "source": [
    "#Transpuesta de una matriz\n",
    "import numpy as np\n",
    "\n",
    "x = np.array([[1,2], [3,4]])\n",
    "print(\"Matriz=\",x)  \n",
    "#Transpuesta\n",
    "print(\"Transpuesta calculada como (x.T)= \",x.T)  # \"[[1 3]\n",
    "            #  [2 4]]\"\n",
    "# o bien\n",
    "print(\"np.transpose(x)= \",np.transpose(x))\n",
    "print()\n",
    "\n",
    "# Pedir la transpuesta de un array de una dimensión no hace nada\n"
   ]
  },
  {
   "cell_type": "code",
   "execution_count": 85,
   "metadata": {},
   "outputs": [
    {
     "name": "stdout",
     "output_type": "stream",
     "text": [
      "10.000000000000002\n",
      "\n",
      "[[ 0.6 -0.7]\n",
      " [-0.2  0.4]]\n"
     ]
    }
   ],
   "source": [
    "import numpy as np\n",
    "#Calculo el determinante\n",
    "A = np.array([[4, 7],\n",
    "              [2, 6]])\n",
    "print(np.linalg.det(A))\n",
    "print()\n",
    "print(np.linalg.inv(A))\n"
   ]
  },
  {
   "cell_type": "code",
   "execution_count": 115,
   "metadata": {},
   "outputs": [
    {
     "name": "stdout",
     "output_type": "stream",
     "text": [
      "[8 7 6 5 4 3 2 1 0]\n",
      "x=  [[1 2]\n",
      " [3 4]]\n",
      "Flip Vertical=  [[3 4]\n",
      " [1 2]]\n",
      "Flip horizontal=  [[2 1]\n",
      " [4 3]]\n",
      "\n",
      "Vector desordenado:  [1 6 3 2 9]\n",
      "\n",
      "Vector ordenado:  [1 2 3 6 9]\n"
     ]
    }
   ],
   "source": [
    "import numpy as np\n",
    "\n",
    "#numpy.flip(m, axis=None)[source]\n",
    "#Reverse the order of elements in an array along the given axis.\n",
    "#The shape of the array is preserved, but the elements are reordered.\n",
    "#sort ordena el array\n",
    "\n",
    "a=np.arange(9)\n",
    "b=np.flip(a,0)\n",
    "print(b)\n",
    "\n",
    "x=  np.array([[1, 2],\n",
    " [3, 4]])\n",
    "print(\"x= \",x)\n",
    "y=np.flip(x,0)\n",
    "print(\"Flip Vertical= \",y)\n",
    "z=np.flip(x,1)\n",
    "print(\"Flip horizontal= \",z);print()\n",
    "\n",
    "a=np.array([1,6,3,2,9])\n",
    "b=np.sort(a)\n",
    "print(\"Vector desordenado: \",a);print();print(\"Vector ordenado: \",b)"
   ]
  },
  {
   "cell_type": "code",
   "execution_count": null,
   "metadata": {},
   "outputs": [],
   "source": [
    "#https://docs.scipy.org/doc/numpy/reference/"
   ]
  },
  {
   "cell_type": "markdown",
   "metadata": {},
   "source": [
    "### Librería matplotlib - Gráficos"
   ]
  },
  {
   "cell_type": "markdown",
   "metadata": {},
   "source": [
    "* Tabla Símbolo- Color\n",
    "\n",
    "“b”\tAzul\n",
    "\n",
    "“g”\tVerde\n",
    "\n",
    "“r”\tRojo\n",
    "\n",
    "“c”\tCian\n",
    "\n",
    "“m”\tMagenta\n",
    "\n",
    "“y”\tAmarillo\n",
    "\n",
    "“k”\tNegro\n",
    "\n",
    "“w”\tBlanco\n",
    "\n",
    "* Tabla Marcas y líneas\n",
    "\n",
    "* Símbolo-\tDescripción\n",
    "“-“\tLínea continua\n",
    "\n",
    "“–”\tLínea a trazos\n",
    "\n",
    "“-.”\tLínea a puntos y rayas\n",
    "\n",
    "“:”\tLínea punteada\n",
    "\n",
    "“.”\tSímbolo punto\n",
    "\n",
    "“,”\tSímbolo pixel\n",
    "\n",
    "“o”\tSímbolo círculo relleno\n",
    "\n",
    "“v”\tSímbolo triángulo hacia abajo\n",
    "\n",
    "“^”\tSímbolo triángulo hacia arriba\n",
    "\n",
    "“<”\tSímbolo triángulo hacia la izquierda\n",
    "\n",
    "“>”\tSímbolo triángulo hacia la derecha\n",
    "\n",
    "“s”\tSímbolo cuadrado\n",
    "\n",
    "“p”\tSímbolo pentágono\n",
    "\n",
    "“*”\tSímbolo estrella\n",
    "\n",
    "“+”\tSímbolo cruz\n",
    "\n",
    "“x”\tSímbolo X\n",
    "\n",
    "“D”\tSímbolo diamante\n",
    "\n",
    "“d”\tSímbolo diamante delgado"
   ]
  },
  {
   "cell_type": "code",
   "execution_count": 101,
   "metadata": {},
   "outputs": [
    {
     "data": {
      "image/png": "[encoded data removed]",
      "text/plain": [
       "<Figure size 432x288 with 1 Axes>"
      ]
     },
     "metadata": {
      "needs_background": "light"
     },
     "output_type": "display_data"
    }
   ],
   "source": [
    "#Se puede cambiar el intervalo horizontal con xlim\n",
    "#Se puede cambiar el intervalo vertical con ylim\n",
    "\n",
    "x=np.linspace(0,10,10)\n",
    "x2=x*x\n",
    "x3=x**3\n",
    "plt.xlim(5,10)     # nuevos límites para el eje OX\n",
    "\n",
    "plt.plot(x, x,'b.',x, x2,'rd',x, x3,'g^')\n",
    "plt.gca().legend(('Lineal','Cuadrática','Cúbica'))\n",
    "\n",
    "plt.show()\n"
   ]
  },
  {
   "cell_type": "code",
   "execution_count": 96,
   "metadata": {},
   "outputs": [
    {
     "data": {
      "image/png": "[encoded data removed]",
      "text/plain": [
       "<Figure size 432x288 with 1 Axes>"
      ]
     },
     "metadata": {
      "needs_background": "light"
     },
     "output_type": "display_data"
    },
    {
     "data": {
      "image/png": "[encoded data removed]",
      "text/plain": [
       "<Figure size 432x288 with 1 Axes>"
      ]
     },
     "metadata": {
      "needs_background": "light"
     },
     "output_type": "display_data"
    },
    {
     "data": {
      "image/png": "[encoded data removed]",
      "text/plain": [
       "<Figure size 432x288 with 1 Axes>"
      ]
     },
     "metadata": {
      "needs_background": "light"
     },
     "output_type": "display_data"
    }
   ],
   "source": [
    "import matplotlib.pyplot as plt\n",
    "# Gráficos múltiples\n",
    "\n",
    "plt.plot([4,8,13,17,20],[54, 67, 98, 78, 45])\n",
    "plt.show()\n",
    "plt.plot([4,8,13,17,20],[54, 67, 98, 78, 45],'g--d')# en color verde con guiones y punto diamante\n",
    "plt.show()\n",
    "plt.scatter([4,8,13,17,20],[54, 67, 98, 78, 45])# puntos\n",
    "plt.show()\n"
   ]
  },
  {
   "cell_type": "markdown",
   "metadata": {},
   "source": [
    "\n",
    "Defina el vector u=$(5, 9 , 10 , -1)$\n",
    "\n",
    "Defina el vector v=$(-2 , 0 , 5 , 4)$\n",
    "\n",
    "Graficar los vectores $u$, $v$, $u+v$ \n",
    "\n",
    "\n"
   ]
  },
  {
   "cell_type": "code",
   "execution_count": 102,
   "metadata": {},
   "outputs": [
    {
     "data": {
      "image/png": "[encoded data removed]",
      "text/plain": [
       "<Figure size 864x1080 with 4 Axes>"
      ]
     },
     "metadata": {
      "needs_background": "light"
     },
     "output_type": "display_data"
    },
    {
     "name": "stdout",
     "output_type": "stream",
     "text": [
      "[ 5  9 10 -1] [-2  0  5  4] [ 3  9 15  3]\n"
     ]
    }
   ],
   "source": [
    "import numpy as np\n",
    "import matplotlib.pyplot as plt\n",
    "\n",
    "#%matplotlib inline No abre una ventana para cada gráfica\n",
    "\n",
    "u=np.array([5,9,10,-1])\n",
    "v=np.array([-2,0,5,4])\n",
    "w=u+v\n",
    "\n",
    "#Para varios gráficos es útil usar la función subplots y luego axs\n",
    "fig, axs = plt.subplots(nrows=2, ncols=2, sharex=True)#Otra variable usada es f\n",
    "#f, axs = plt.subplots(2,2,figsize=(12,15))#ancho,altura\n",
    "fig.set_figwidth(12)\n",
    "fig.set_figheight(15)\n",
    "\n",
    "axs[0,0].plot(range(4),u)\n",
    "axs[0,0].set_title('vector u')\n",
    "axs[0,0].set_xlabel('x')\n",
    "axs[0,0].set_ylabel('y')\n",
    "\n",
    "axs[0,1].plot(range(4),v)\n",
    "axs[0,1].set_title('vector v')\n",
    "axs[0,1].set_xlabel('x')\n",
    "axs[0,1].set_ylabel('y')\n",
    "\n",
    "\n",
    "axs[1,0].plot(range(4),w)\n",
    "axs[1,0].set_title('vector suma')\n",
    "axs[1,0].set_xlabel('x')\n",
    "axs[1,0].set_ylabel('y')\n",
    "\n",
    "axs[1,1],plt.scatter(range(4),w)\n",
    "axs[1,1].set_title('vector suma')\n",
    "axs[1,1].set_xlabel('x')\n",
    "axs[1,1].set_ylabel('y')\n",
    "\n",
    "plt.show()\n",
    "print(u,v,w)"
   ]
  },
  {
   "cell_type": "code",
   "execution_count": 98,
   "metadata": {},
   "outputs": [
    {
     "data": {
      "image/png": "[encoded data removed]",
      "text/plain": [
       "<Figure size 720x216 with 2 Axes>"
      ]
     },
     "metadata": {
      "needs_background": "light"
     },
     "output_type": "display_data"
    }
   ],
   "source": [
    "#Otra forma de mostrar múltiples gráficos\n",
    "\n",
    "import matplotlib.pyplot as plt\n",
    "import numpy as np\n",
    "\n",
    "x = np.linspace(0,4,1000)\n",
    "\n",
    "f = plt.figure(figsize=(10,3))\n",
    "\n",
    "ax = f.add_subplot(121)\n",
    "ax2 = f.add_subplot(122)\n",
    "\n",
    "ax.plot(x, np.sin(x))\n",
    "ax2.plot(x, np.cos(x), 'r:')\n",
    "\n",
    "plt.show()"
   ]
  },
  {
   "cell_type": "markdown",
   "metadata": {},
   "source": [
    "**Ejercicio**\n",
    "\n",
    "Defina una matriz de unos de dimensión 3x2.\n",
    "\n",
    "Multiplique la primera fila por 3.\n",
    "\n",
    "Multiplique la última fila por 2.\n",
    "\n",
    "Muestre la matriz obtenida y su traspuesta."
   ]
  },
  {
   "cell_type": "code",
   "execution_count": null,
   "metadata": {},
   "outputs": [],
   "source": [
    "#Resolución\n",
    "import numpy as np\n",
    "A=np.ones((3,2))\n",
    "print(A)\n",
    "print()\n",
    "A[0:1]=3*A[0:1]\n",
    "A[2:]=2*A[2:]\n",
    "print(A)\n"
   ]
  },
  {
   "cell_type": "markdown",
   "metadata": {},
   "source": [
    "**Ejercicio plus**\n",
    "* construya una función que :\n",
    "- pida un número impar\n",
    "- que imprima \"Error, debe ingresar un número impar\" si no es impar.\n",
    "- Si el número es impar debe devolver una matriz cuadrada de ancho y alto el número impar ingresado, cuyos valores sean ese número en la última fila y columna y decrezca de a uno al acercarse al lugar [0,0], hasta llegar a uno.\n",
    "A modo de ejemplo, Si el número ingresado es 5 la matriz resultante deberá dar:\n",
    "\n",
    "[[ 1  2  3  4  5]\n",
    "\n",
    " [ 2  2  3  4  5]\n",
    " \n",
    " [ 3  3  3  4  5]\n",
    " \n",
    " [ 4  4  4  4  5]\n",
    " \n",
    " [ 5  5  5  5  5]]\n",
    " \n",
    " - Al implementar la función verifique si el resultado es una matriz simétrica, es decir es igual que su traspuesta."
   ]
  },
  {
   "cell_type": "code",
   "execution_count": null,
   "metadata": {},
   "outputs": [],
   "source": []
  }
 ],
 "metadata": {
  "kernelspec": {
   "display_name": "Python 3",
   "language": "python",
   "name": "python3"
  },
  "language_info": {
   "codemirror_mode": {
    "name": "ipython",
    "version": 3
   },
   "file_extension": ".py",
   "mimetype": "text/x-python",
   "name": "python",
   "nbconvert_exporter": "python",
   "pygments_lexer": "ipython3",
   "version": "3.6.5"
  }
 },
 "nbformat": 4,
 "nbformat_minor": 2
}
